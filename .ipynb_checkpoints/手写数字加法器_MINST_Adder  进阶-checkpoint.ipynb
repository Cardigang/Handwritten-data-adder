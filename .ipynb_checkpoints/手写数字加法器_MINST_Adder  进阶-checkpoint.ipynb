{
 "cells": [
  {
   "cell_type": "markdown",
   "metadata": {},
   "source": [
    "# 迁移学习——手写数字加法机\n",
    "实现了一个手写数字加法机，它可以通过识别输入的两个手写体图像文件，从而计算两个数字的和，并给出输出。展示了三种不同\n",
    "的迁移学习方式，并对它们进行了系统化的比较：\n",
    "\n",
    "1、没有迁移学习，网络完全从头学习如何识别数字，如何计算加法；\n",
    "\n",
    "2、将已训练好的手写数字识别器网络迁移过来，作为预训练权重；\n",
    "\n",
    "3、将已训练好的手写数字识别器网络迁移过来，并作为不可修改的权重。"
   ]
  },
  {
   "cell_type": "code",
   "execution_count": 1,
   "metadata": {
    "collapsed": true
   },
   "outputs": [],
   "source": [
    "# 导入所需要的包，请保证torchvision已经在你的环境中安装好\n",
    "import torch\n",
    "import torch.nn as nn\n",
    "from torch.autograd import Variable\n",
    "import torch.optim as optim\n",
    "import torch.nn.functional as F\n",
    "\n",
    "import torchvision.datasets as dsets\n",
    "import torchvision.transforms as transforms\n",
    "\n",
    "import matplotlib.pyplot as plt\n",
    "import numpy as np\n",
    "import copy\n",
    "\n",
    "%matplotlib inline"
   ]
  },
  {
   "cell_type": "markdown",
   "metadata": {},
   "source": [
    "## 一、加载数据\n",
    "\n",
    "首先一个问题是如何加载成对的图像数据？我们采用的解决方案是采用了两套采样器和加载器，\n",
    "这样每一组采样器＋加载器都独立地从原始的数据集中抽样数据，这就让我们可以获得大量不重复\n",
    "的手写数字图像对，从而可以训练我们的神经网络。"
   ]
  },
  {
   "cell_type": "code",
   "execution_count": 2,
   "metadata": {
    "collapsed": true
   },
   "outputs": [],
   "source": [
    "\n",
    "# 设置图像读取器的超参数\n",
    "image_size = 28  #图像的总尺寸28*28\n",
    "num_classes = 10  #标签的种类数\n",
    "num_epochs = 20  #训练的总循环周期\n",
    "batch_size = 64  #批处理的尺寸大小\n",
    "\n",
    "# 如果系统中存在着GPU，我们将用GPU来完成张量的计算\n",
    "use_cuda = torch.cuda.is_available() #定义一个布尔型变量，标志当前的GPU是否可用\n",
    "\n",
    "# 如果当前GPU可用，则将优先在GPU上进行张量计算\n",
    "dtype = torch.cuda.FloatTensor if use_cuda else torch.FloatTensor\n",
    "itype = torch.cuda.LongTensor if use_cuda else torch.LongTensor\n",
    "\n",
    "# 加载MINIST数据，如果没有下载过，就会在当前路径下新建/data子目录，并把文件存放其中\n",
    "# MNIST数据是属于torchvision包自带的数据，所以可以直接调用。\n",
    "# 在调用自己的数据的时候，我们可以用torchvision.datasets.ImageFolder或者torch.utils.data.TensorDataset来加载\n",
    "train_dataset = dsets.MNIST(root='./data',  #文件存放路径\n",
    "                            train=True,   #提取训练集\n",
    "                            transform=transforms.ToTensor(),  #将图像转化为Tensor\n",
    "                            download=True)\n",
    "\n",
    "# 加载测试数据集\n",
    "test_dataset = dsets.MNIST(root='./data', \n",
    "                           train=False, \n",
    "                           transform=transforms.ToTensor())\n",
    "\n",
    "\n",
    "# 定义两个采样器，每一个采样器都随机地从原始的数据集中抽样数据。抽样数据采用permutation\n",
    "# 生成任意一个下标重排，从而利用下标来提取dataset中的数据\n",
    "sample_size = len(train_dataset)\n",
    "sampler1 = torch.utils.data.sampler.SubsetRandomSampler(\n",
    "    np.random.choice(range(len(train_dataset)), sample_size))\n",
    "sampler2 = torch.utils.data.sampler.SubsetRandomSampler(\n",
    "    np.random.choice(range(len(train_dataset)), sample_size))\n",
    "\n",
    "# 定义两个加载器，分别封装了前两个采样器，实现采样。\n",
    "train_loader1 = torch.utils.data.DataLoader(dataset = train_dataset,\n",
    "                                           batch_size = batch_size,\n",
    "                                           sampler = sampler1\n",
    "                                           )\n",
    "train_loader2 = torch.utils.data.DataLoader(dataset = train_dataset,\n",
    "                                           batch_size = batch_size,\n",
    "                                           sampler = sampler2\n",
    "                                           )\n",
    "\n",
    "# 对于校验数据和测试数据，我们进行类似的处理。\n",
    "val_size = 5000\n",
    "val_indices1 = range(val_size)\n",
    "val_indices2 = np.random.permutation(range(val_size))\n",
    "test_indices1 = range(val_size, len(test_dataset))\n",
    "test_indices2 = np.random.permutation(test_indices1)\n",
    "val_sampler1 = torch.utils.data.sampler.SubsetRandomSampler(val_indices1)\n",
    "val_sampler2 = torch.utils.data.sampler.SubsetRandomSampler(val_indices2)\n",
    "\n",
    "test_sampler1 = torch.utils.data.sampler.SubsetRandomSampler(test_indices1)\n",
    "test_sampler2 = torch.utils.data.sampler.SubsetRandomSampler(test_indices2)\n",
    "\n",
    "val_loader1 = torch.utils.data.DataLoader(dataset = test_dataset,\n",
    "                                        batch_size = batch_size,\n",
    "                                        shuffle = False,\n",
    "                                        sampler = val_sampler1\n",
    "                                        )\n",
    "val_loader2 = torch.utils.data.DataLoader(dataset = test_dataset,\n",
    "                                        batch_size = batch_size,\n",
    "                                        shuffle = False,\n",
    "                                        sampler = val_sampler2\n",
    "                                        )\n",
    "test_loader1 = torch.utils.data.DataLoader(dataset = test_dataset,\n",
    "                                         batch_size = batch_size,\n",
    "                                         shuffle = False,\n",
    "                                         sampler = test_sampler1\n",
    "                                         )\n",
    "test_loader2 = torch.utils.data.DataLoader(dataset = test_dataset,\n",
    "                                         batch_size = batch_size,\n",
    "                                         shuffle = False,\n",
    "                                         sampler = test_sampler2\n",
    "                                         )\n",
    "\n",
    "# 为了比较不同数据量对迁移学习的影响，我们设定了一个加载数据的比例fraction\n",
    "# 即我们只加载原训练数据集的1/fraction来训练网络\n",
    "fraction = 1"
   ]
  },
  {
   "cell_type": "markdown",
   "metadata": {},
   "source": [
    "## 二、加载网络\n",
    "\n",
    "为了实现迁移学习，我们需要从硬盘上加载已经训练好的手写数字识别器卷积神经网络，加载网络需要经过两个步骤：\n",
    "\n",
    "1、定义网络模块（nn.Module）的框架，即新定义类ConvNet，实现其forwar函数；\n",
    "\n",
    "2、从硬盘文件加载网络\n",
    "\n",
    "3、通过绘制其卷积核，验证加载到的网络和导出的网络一致"
   ]
  },
  {
   "cell_type": "markdown",
   "metadata": {},
   "source": [
    "### 1. 定义网络架构\n"
   ]
  },
  {
   "cell_type": "code",
   "execution_count": 3,
   "metadata": {
    "collapsed": true
   },
   "outputs": [],
   "source": [
    "# 定义待迁移的网络框架，所有的神经网络模块包括：Conv2d、MaxPool2d，Linear等模块都不需要重新定义，会自动加载\n",
    "# 但是网络的forward功能没有办法自动实现，需要重写。\n",
    "# 一般的，加载网络只加载网络的属性，不加载方法\n",
    "depth = [4, 8]\n",
    "class ConvNet(nn.Module):\n",
    "    def __init__(self):\n",
    "        super(ConvNet, self).__init__()\n",
    "    def forward(self, x):\n",
    "        x = F.relu(self.conv1(x))\n",
    "        x = self.pool(x)\n",
    "        x = F.relu(self.conv2(x))\n",
    "        x = self.pool(x)\n",
    "        # 将立体的Tensor全部转换成一维的Tensor。两次pooling操作，所以图像维度减少了1/4\n",
    "        x = x.view(-1, image_size // 4 * image_size // 4 * depth[1])\n",
    "        x = F.relu(self.fc1(x)) #全链接，激活函数\n",
    "        x = F.dropout(x, training=self.training) #以默认为0.5的概率对这一层进行dropout操作\n",
    "        x = self.fc2(x) #全链接，激活函数\n",
    "        x = F.log_softmax(x, dim =1) #log_softmax可以理解为概率对数值\n",
    "        return x"
   ]
  },
  {
   "cell_type": "markdown",
   "metadata": {},
   "source": [
    "### 2. 从硬盘文件加载网络\n",
    "\n",
    "网络加载命令如下："
   ]
  },
  {
   "cell_type": "code",
   "execution_count": 4,
   "metadata": {
    "collapsed": true
   },
   "outputs": [],
   "source": [
    "original_net = torch.load('minst_conv_checkpoint') #读取硬盘上的minst_conv_checkpoint文件"
   ]
  },
  {
   "cell_type": "code",
   "execution_count": 5,
   "metadata": {},
   "outputs": [
    {
     "data": {
      "text/plain": [
       "ConvNet(\n",
       "  (conv1): Conv2d(1, 4, kernel_size=(5, 5), stride=(1, 1), padding=(2, 2))\n",
       "  (pool): MaxPool2d(kernel_size=2, stride=2, padding=0, dilation=1, ceil_mode=False)\n",
       "  (conv2): Conv2d(4, 8, kernel_size=(5, 5), stride=(1, 1), padding=(2, 2))\n",
       "  (fc1): Linear(in_features=392, out_features=512, bias=True)\n",
       "  (fc2): Linear(in_features=512, out_features=10, bias=True)\n",
       ")"
      ]
     },
     "execution_count": 5,
     "metadata": {},
     "output_type": "execute_result"
    }
   ],
   "source": [
    "original_net #将网络打印出来观看（只能看到其神经模块和架构）"
   ]
  },
  {
   "cell_type": "markdown",
   "metadata": {},
   "source": [
    "### 3. 检测加载的正确性\n",
    "\n",
    "通过测试它在测试数据集上的分类准确度，以及绘制其卷积核，并与导出的程序（minist_convnet.ipynb）中的分类准确度、卷积核等是否相同判断"
   ]
  },
  {
   "cell_type": "code",
   "execution_count": 6,
   "metadata": {},
   "outputs": [
    {
     "data": {
      "text/plain": [
       "0.9898"
      ]
     },
     "execution_count": 6,
     "metadata": {},
     "output_type": "execute_result"
    }
   ],
   "source": [
    "def rightness(predictions, labels):\n",
    "    \"\"\"计算预测错误率的函数，其中predictions是模型给出的一组预测结果，batch_size行10列的矩阵，labels是数据之中的正确答案\"\"\"\n",
    "    pred = torch.max(predictions.data, 1)[1] # 对于任意一行（一个样本）的输出值的第1个维度，求最大，得到每一行的最大元素的下标\n",
    "    rights = pred.eq(labels.data.view_as(pred)).sum() #将下标与labels中包含的类别进行比较，并累计得到比较正确的数量\n",
    "    return rights, len(labels) #返回正确的数量和这一次一共比较了多少元素\n",
    "\n",
    "#在测试集上分批运行，并计算总的正确率\n",
    "original_net.eval() #标志模型当前为运行阶段\n",
    "test_loss = 0\n",
    "correct = 0\n",
    "vals = []\n",
    "\n",
    "#对测试数据集进行循环\n",
    "for data, target in test_loader1:\n",
    "#     data, target = data.clone().detach().requires_grad_(False), target.clone().detach()\n",
    "    with torch.no_grad():\n",
    "        data = data.clone().detach()\n",
    "    target = target.clone().detach()\n",
    "    \n",
    "    output = original_net(data) #将特征数据喂入网络，得到分类的输出\n",
    "    val = rightness(output, target) #获得正确样本数以及总样本数\n",
    "    vals.append(val) #记录结果\n",
    "\n",
    "#计算准确率\n",
    "rights = (sum([tup[0] for tup in vals]), sum([tup[1] for tup in vals]))\n",
    "right_rate = 1.0 * rights[0].numpy() / rights[1]\n",
    "right_rate"
   ]
  },
  {
   "cell_type": "code",
   "execution_count": 7,
   "metadata": {},
   "outputs": [
    {
     "name": "stdout",
     "output_type": "stream",
     "text": [
      "标签是： 4\n"
     ]
    },
    {
     "data": {
      "image/png": "[encoded data removed]",
      "text/plain": [
       "<matplotlib.figure.Figure at 0x2c2fd37b160>"
      ]
     },
     "metadata": {},
     "output_type": "display_data"
    }
   ],
   "source": [
    "#随便从测试集中读入一张图片，并绘制出来\n",
    "idx = 4\n",
    "muteimg = test_dataset[idx][0].numpy()\n",
    "plt.imshow(muteimg[0,...])\n",
    "print('标签是：',test_dataset[idx][1])\n"
   ]
  },
  {
   "cell_type": "code",
   "execution_count": 8,
   "metadata": {},
   "outputs": [
    {
     "data": {
      "image/png": "[encoded data removed]",
      "text/plain": [
       "<matplotlib.figure.Figure at 0x2c2fd3b1be0>"
      ]
     },
     "metadata": {},
     "output_type": "display_data"
    }
   ],
   "source": [
    "#提取第一层卷积层的卷积核\n",
    "plt.figure(figsize = (10, 7))\n",
    "for i in range(4):\n",
    "    plt.subplot(1,4,i + 1)\n",
    "    plt.imshow(original_net.conv1.weight.data.numpy()[i,0,...])\n"
   ]
  },
  {
   "cell_type": "code",
   "execution_count": 9,
   "metadata": {},
   "outputs": [
    {
     "data": {
      "image/png": "[encoded data removed]",
      "text/plain": [
       "<matplotlib.figure.Figure at 0x2c2b6432438>"
      ]
     },
     "metadata": {},
     "output_type": "display_data"
    }
   ],
   "source": [
    "# 绘制第二层的卷积核\n",
    "plt.figure(figsize = (15, 10))\n",
    "for i in range(4):\n",
    "    for j in range(8):\n",
    "        plt.subplot(4, 8, i * 8 + j + 1)\n",
    "        plt.imshow(original_net.conv2.weight.data.numpy()[j, i,...])"
   ]
  },
  {
   "cell_type": "markdown",
   "metadata": {},
   "source": [
    "## 三、数字加法机的实现\n",
    "\n",
    "数字加法机：输入两张图像，输出这两个手写数字的加法。网络的架构如下：\n",
    "\n",
    "两个并行的卷积模块：两个卷积层、两个Pooling层；一个全链接模块：最多四层全链接层。"
   ]
  },
  {
   "cell_type": "code",
   "execution_count": 10,
   "metadata": {
    "collapsed": true
   },
   "outputs": [],
   "source": [
    "depth = [4, 8]\n",
    "class Transfer(nn.Module):\n",
    "    def __init__(self):\n",
    "        super(Transfer, self).__init__()\n",
    "        # 两个并行的卷积通道，第一个通道：\n",
    "        self.net1_conv1 = nn.Conv2d(1, 4, 5, padding = 2) #一个输入通道，4个输出通道（4个卷积核），窗口为5，填充2\n",
    "        self.net_pool = nn.MaxPool2d(2, 2) #2*2 池化\n",
    "        self.net1_conv2 = nn.Conv2d(depth[0], depth[1], 5, padding = 2) #输入通道4，输出通道8（8个卷积核），窗口5，填充2\n",
    "        \n",
    "        # 第二个通道，注意pooling操作不需要重复定义\n",
    "        self.net2_conv1 = nn.Conv2d(1, 4, 5, padding = 2) #一个输入通道，4个输出通道（4个卷积核），窗口为5，填充2\n",
    "        self.net2_conv2 = nn.Conv2d(depth[0], depth[1], 5, padding = 2) #输入通道4，输出通道8（8个卷积核），窗口5，填充2\n",
    "        \n",
    "        # 全链接层\n",
    "        self.fc1 = nn.Linear(2 * image_size // 4 * image_size // 4 * depth[1] , 1024) #输入为处理后的特征图压平，输出1024个单元\n",
    "        self.fc2 = nn.Linear(1024, 2 * num_classes) #输入1024个单元，输出20个单元\n",
    "        self.fc3 = nn.Linear(2 * num_classes, num_classes) #输入20个单元，输出10个单元\n",
    "        self.fc4 = nn.Linear(num_classes, 1) #输入10个单元，输出为1\n",
    "\n",
    "    def forward(self, x, y, training = True):\n",
    "        # 网络的前馈过程。输入两张手写图像x和y，输出一个数字表示两个数字的和\n",
    "        # x,y都是batch_size*image_size*image_size形状的三阶张量\n",
    "        # 输出为batch_size长的列向量\n",
    "        \n",
    "        # 首先，第一张图像进入第一个通道\n",
    "        x = F.relu(self.net1_conv1(x)) #第一层卷积\n",
    "        x = self.net_pool(x)   # 第一层池化\n",
    "        x = F.relu(self.net1_conv2(x))  # 第二层卷积\n",
    "        x = self.net_pool(x) # 第二层池化\n",
    "        x = x.view(-1, image_size // 4 * image_size // 4 * depth[1]) # 将特征图张量压平\n",
    "        \n",
    "        \n",
    "        y = F.relu(self.net2_conv1(y)) #第一层卷积\n",
    "        y = self.net_pool(y) # 第一层池化\n",
    "        y = F.relu(self.net2_conv2(y)) #第二层卷积\n",
    "        y = self.net_pool(y) #第二层池化\n",
    "        y = y.view(-1, image_size // 4 * image_size // 4 * depth[1])# 将特征图张量压平\n",
    "        \n",
    "        # 将两个卷积过来的铺平向量拼接在一起，形成一个大向量\n",
    "        z = torch.cat((x, y), 1) #cat函数为拼接向量操作，1表示拼接的维度为第1个维度（0维度对应了batch）\n",
    "        z = self.fc1(z) #第一层全链接\n",
    "        z = F.relu(z)  #对于深层网络来说，激活函数用relu效果会比较好\n",
    "        z = F.dropout(z, training=self.training) #以默认为0.5的概率对这一层进行dropout操作\n",
    "        z = self.fc2(z) #第二层全链接\n",
    "        z = F.relu(z)\n",
    "        z = self.fc3(z) #第三层全链接\n",
    "        z = F.relu(z)\n",
    "        z = self.fc4(z) # 第四层全链接\n",
    "        return z\n",
    "    def set_filter_values(self, net):\n",
    "        # 本函数为迁移网络所用，即将迁移过来的网络的权重值拷贝到本网络中\n",
    "        # 本函数对应的迁移为预训练式\n",
    "        # 输入参数net为从硬盘加载的网络作为迁移源\n",
    "        \n",
    "        # 逐个儿为网络的两个卷积模块的权重和偏置进行赋值\n",
    "        # 注意在赋值的时候需要用deepcopy而不能直接等于，或者copy。\n",
    "        # 这是因为这种拷贝是将张量中的数值全部拷贝到了目标中，而不是拷贝地址\n",
    "        # 如果不用deepcopy，由于我们将同一组参数（net.conv1.weight.data,bias）\n",
    "        #  赋予了两组参数（net1_conv1.weight.data，net2_conv1.weight.data）\n",
    "        # 所以它们会共享源net.conv1.weight.data中的地址，这样对于net1_conv1.weight.data\n",
    "        # 的训练也自然会被用到了net2_conv1.weight.data中，但其实我们希望它们是两个不同的参数。\n",
    "        self.net1_conv1.weight.data = copy.deepcopy(net.conv1.weight.data)\n",
    "        self.net1_conv1.bias.data = copy.deepcopy(net.conv1.bias.data)\n",
    "        self.net1_conv2.weight.data = copy.deepcopy(net.conv2.weight.data)\n",
    "        self.net1_conv2.bias.data = copy.deepcopy(net.conv2.bias.data)\n",
    "        self.net2_conv1.weight.data = copy.deepcopy(net.conv1.weight.data)\n",
    "        self.net2_conv1.bias.data = copy.deepcopy(net.conv1.bias.data)\n",
    "        self.net2_conv2.weight.data = copy.deepcopy(net.conv2.weight.data)\n",
    "        self.net2_conv2.bias.data = copy.deepcopy(net.conv2.bias.data)\n",
    "        \n",
    "        # 将变量加载到GPU上        \n",
    "        self.net1_conv1 = self.net1_conv1.cuda() if use_cuda else self.net1_conv1\n",
    "        self.net1_conv2 = self.net1_conv2.cuda() if use_cuda else self.net1_conv2\n",
    "        \n",
    "        self.net2_conv1 = self.net2_conv1.cuda() if use_cuda else self.net2_conv1\n",
    "        self.net2_conv2 = self.net2_conv2.cuda() if use_cuda else self.net2_conv2\n",
    "    def set_filter_values_nograd(self, net):\n",
    "        # 本函数为迁移网络所用，即将迁移过来的网络的权重值拷贝到本网络中\n",
    "        # 本函数对应的迁移为固定权重式\n",
    "        # 调用set_filter_values为全部卷积核进行赋值\n",
    "        self.set_filter_values(net)\n",
    "        \n",
    "        # 为了让我们的网络不被训练调整权值，我们需要设定每一个变量的requires_grad为False\n",
    "        # 即不需要计算梯度值\n",
    "        self.net1_conv1.weight.requires_grad = False\n",
    "        self.net1_conv1.bias.requires_grad = False\n",
    "        self.net1_conv2.weight.requires_grad = False\n",
    "        self.net1_conv2.bias.requires_grad = False\n",
    "        \n",
    "        \n",
    "        self.net2_conv1.weight.requires_grad = False\n",
    "        self.net2_conv1.bias.requires_grad = False\n",
    "        self.net2_conv2.weight.requires_grad = False\n",
    "        self.net2_conv2.bias.requires_grad = False\n",
    "def rightness(y, target):\n",
    "    # 计算分类准确度的函数，y为模型预测的标签，target为数据的标签\n",
    "    # 输入的y为一个矩阵，行对应了batch中的不同数据记录，列对应了不同的分类选择，数值对应了概率\n",
    "    # 函数输出分别为预测与数据标签相等的个数，本次判断的所有数据个数\n",
    "    out = torch.round(y.squeeze()).type(itype)\n",
    "    out = out.eq(target).sum()\n",
    "    out1 = y.size()[0]\n",
    "    return(out, out1)"
   ]
  },
  {
   "cell_type": "markdown",
   "metadata": {},
   "source": [
    "## 四、数据迁移实验"
   ]
  },
  {
   "cell_type": "markdown",
   "metadata": {},
   "source": [
    "### 1. 无迁移实验\n",
    "\n",
    "在本试验中，我们不迁移网络，直接训练整个网络"
   ]
  },
  {
   "cell_type": "code",
   "execution_count": null,
   "metadata": {
    "collapsed": true
   },
   "outputs": [],
   "source": [
    "# 生成网络实例\n",
    "net = Transfer()\n",
    "\n",
    "# 如果存在GPU，则将网络加载到GPU中\n",
    "if use_cuda:\n",
    "    net = net.cuda()\n",
    "    \n",
    "# 定义损失函数，我们用最小均方误差来定义损失\n",
    "criterion = nn.MSELoss()\n",
    "\n",
    "# 定义优化器\n",
    "optimizer = optim.SGD(net.parameters(), lr = 0.0001, momentum = 0.9)\n",
    "results = {}"
   ]
  },
  {
   "cell_type": "code",
   "execution_count": null,
   "metadata": {
    "scrolled": true
   },
   "outputs": [
    {
     "name": "stderr",
     "output_type": "stream",
     "text": [
      "C:\\ProgramData\\Anaconda3\\lib\\site-packages\\torch\\nn\\modules\\loss.py:520: UserWarning: Using a target size (torch.Size([64])) that is different to the input size (torch.Size([64, 1])). This will likely lead to incorrect results due to broadcasting. Please ensure they have the same size.\n",
      "  return F.mse_loss(input, target, reduction=self.reduction)\n",
      "C:\\ProgramData\\Anaconda3\\lib\\site-packages\\torch\\nn\\modules\\loss.py:520: UserWarning: Using a target size (torch.Size([8])) that is different to the input size (torch.Size([8, 1])). This will likely lead to incorrect results due to broadcasting. Please ensure they have the same size.\n",
      "  return F.mse_loss(input, target, reduction=self.reduction)\n"
     ]
    },
    {
     "name": "stdout",
     "output_type": "stream",
     "text": [
      "第0周期，第(0/938)个撮，训练误差：88.88827514648438, 校验误差：99.46, 准确率：0.01\n",
      "第0周期，第(100/938)个撮，训练误差：81.66851043701172, 校验误差：51.54, 准确率：0.05\n",
      "第0周期，第(200/938)个撮，训练误差：51.268524169921875, 校验误差：17.43, 准确率：0.10\n",
      "第0周期，第(300/938)个撮，训练误差：39.87971115112305, 校验误差：16.58, 准确率：0.10\n",
      "第0周期，第(400/938)个撮，训练误差：34.11788558959961, 校验误差：16.68, 准确率：0.11\n",
      "第0周期，第(500/938)个撮，训练误差：30.676992416381836, 校验误差：17.10, 准确率：0.11\n",
      "第0周期，第(600/938)个撮，训练误差：28.45798683166504, 校验误差：16.70, 准确率：0.10\n",
      "第0周期，第(700/938)个撮，训练误差：26.859600067138672, 校验误差：17.01, 准确率：0.09\n",
      "第0周期，第(800/938)个撮，训练误差：25.62700653076172, 校验误差：16.87, 准确率：0.11\n",
      "第0周期，第(900/938)个撮，训练误差：24.621925354003906, 校验误差：16.49, 准确率：0.10\n"
     ]
    },
    {
     "name": "stderr",
     "output_type": "stream",
     "text": [
      "C:\\ProgramData\\Anaconda3\\lib\\site-packages\\torch\\nn\\modules\\loss.py:520: UserWarning: Using a target size (torch.Size([32])) that is different to the input size (torch.Size([32, 1])). This will likely lead to incorrect results due to broadcasting. Please ensure they have the same size.\n",
      "  return F.mse_loss(input, target, reduction=self.reduction)\n"
     ]
    },
    {
     "name": "stdout",
     "output_type": "stream",
     "text": [
      "第1周期，第(0/938)个撮，训练误差：14.214404106140137, 校验误差：16.97, 准确率：0.09\n",
      "第1周期，第(100/938)个撮，训练误差：16.6541805267334, 校验误差：17.21, 准确率：0.11\n",
      "第1周期，第(200/938)个撮，训练误差：16.7957763671875, 校验误差：16.96, 准确率：0.11\n",
      "第1周期，第(300/938)个撮，训练误差：16.799388885498047, 校验误差：16.82, 准确率：0.09\n",
      "第1周期，第(400/938)个撮，训练误差：16.87097930908203, 校验误差：16.96, 准确率：0.09\n",
      "第1周期，第(500/938)个撮，训练误差：16.895231246948242, 校验误差：17.11, 准确率：0.10\n",
      "第1周期，第(600/938)个撮，训练误差：16.902414321899414, 校验误差：16.37, 准确率：0.10\n",
      "第1周期，第(700/938)个撮，训练误差：16.876432418823242, 校验误差：16.96, 准确率：0.10\n",
      "第1周期，第(800/938)个撮，训练误差：16.895774841308594, 校验误差：16.77, 准确率：0.10\n",
      "第1周期，第(900/938)个撮，训练误差：16.85071563720703, 校验误差：16.49, 准确率：0.10\n",
      "第2周期，第(0/938)个撮，训练误差：16.263442993164062, 校验误差：17.16, 准确率：0.10\n",
      "第2周期，第(100/938)个撮，训练误差：16.845544815063477, 校验误差：16.51, 准确率：0.11\n",
      "第2周期，第(200/938)个撮，训练误差：16.631534576416016, 校验误差：16.80, 准确率：0.10\n",
      "第2周期，第(300/938)个撮，训练误差：16.66823387145996, 校验误差：16.30, 准确率：0.10\n",
      "第2周期，第(400/938)个撮，训练误差：16.696725845336914, 校验误差：16.62, 准确率：0.10\n",
      "第2周期，第(500/938)个撮，训练误差：16.706571578979492, 校验误差：16.46, 准确率：0.10\n",
      "第2周期，第(600/938)个撮，训练误差：16.736026763916016, 校验误差：17.22, 准确率：0.10\n",
      "第2周期，第(700/938)个撮，训练误差：16.74675750732422, 校验误差：16.99, 准确率：0.10\n",
      "第2周期，第(800/938)个撮，训练误差：16.786096572875977, 校验误差：16.73, 准确率：0.09\n",
      "第2周期，第(900/938)个撮，训练误差：16.82909393310547, 校验误差：16.51, 准确率：0.10\n"
     ]
    }
   ],
   "source": [
    "\n",
    "# 开始训练网络\n",
    "num_epochs = 20\n",
    "records = []\n",
    "for epoch in range(num_epochs):\n",
    "    losses = []\n",
    "    \n",
    "    # 我们可以用zip命令来同时从两个数据加载器中加载数据，enumerate则给这个迭代附加上了计数\n",
    "    for idx, data in enumerate(zip(train_loader1, train_loader2)):\n",
    "        # 为了比较数据量大小对迁移学习的影响，我们只加载了部分数据，当数据加载个数idx大于\n",
    "        # 全数据集的1/fraction的时候则不再加载后面的数据\n",
    "        if idx >= (len(train_loader1) // fraction):\n",
    "            break\n",
    "        ((x1, y1), (x2, y2)) = data\n",
    "        if use_cuda:\n",
    "            x1, y1, x2, y2 = x1.cuda(), y1.cuda(), x2.cuda(), y2.cuda()\n",
    "        optimizer.zero_grad()\n",
    "        net.train()\n",
    "        outputs = net(x1.clone().detach(), x2.clone().detach())\n",
    "        labels = y1 + y2\n",
    "        loss = criterion(outputs, labels.type(torch.float))\n",
    "        loss.backward()\n",
    "        optimizer.step()\n",
    "        loss = loss.cpu() if use_cuda else loss\n",
    "        losses.append(loss.data.numpy())\n",
    "        if idx % 100 == 0:\n",
    "            # 在校验数据上计算计算准确率\n",
    "            val_losses = []\n",
    "            rights = []\n",
    "            net.eval()\n",
    "            for val_data in zip(val_loader1, val_loader2):\n",
    "                ((x1, y1), (x2, y2)) = val_data\n",
    "                if use_cuda:\n",
    "                    x1, y1, x2, y2 = x1.cuda(), y1.cuda(), x2.cuda(), y2.cuda()\n",
    "                outputs = net(x1.clone().detach(), x2.clone().detach())\n",
    "                labels = y1 + y2\n",
    "                \n",
    "                loss = criterion(outputs, labels.type(torch.float))\n",
    "                loss = loss.cpu() if use_cuda else loss\n",
    "                val_losses.append(loss.data.numpy())\n",
    "                \n",
    "                right = rightness(outputs.data, labels)\n",
    "                rights.append(right)\n",
    "            right_ratio = 1.0 * np.sum([i[0] for i in rights]) / np.sum([i[1] for i in rights])\n",
    "            print('第{}周期，第({}/{})个撮，训练误差：{}, 校验误差：{:.2f}, 准确率：{:.2f}'.format(\n",
    "                epoch, idx, len(train_loader1),\n",
    "                np.mean(losses), np.mean(val_losses), right_ratio))\n",
    "            records.append([np.mean(losses), np.mean(val_losses), right_ratio])\n",
    "\n",
    "# 在测试数据集上测试准确度\n",
    "rights = []\n",
    "net.eval()\n",
    "for test_data in zip(test_loader1, test_loader2):\n",
    "    ((x1, y1), (x2, y2)) = test_data\n",
    "    if use_cuda:\n",
    "        x1, y1, x2, y2 = x1.cuda(), y1.cuda(), x2.cuda(), y2.cuda()\n",
    "    outputs = net(x1.clone().detach(), x2.clone().detach())\n",
    "    labels = y1 + y2\n",
    "    loss = criterion(outputs, labels.type(torch.float))\n",
    "    right = rightness(outputs.data, labels)\n",
    "    rights.append(right)\n",
    "right_ratio = 1.0 * np.sum([i[0] for i in rights]) / np.sum([i[1] for i in rights])\n",
    "results['notransfer'] = [records, right_ratio]  "
   ]
  },
  {
   "cell_type": "code",
   "execution_count": null,
   "metadata": {
    "collapsed": true
   },
   "outputs": [],
   "source": [
    "# 绘制实验结果，打印测试集上的准确度\n",
    "plt.plot([i[0] for i in records])\n",
    "plt.plot([i[1] for i in records])\n",
    "plt.plot([100 * (1 - i[2]) for i in records])\n",
    "right_ratio"
   ]
  },
  {
   "cell_type": "markdown",
   "metadata": {},
   "source": [
    "### 2. 迁移网络，预训练\n",
    "\n",
    "在本试验中，我们将手写数字识别的卷积神经网络权重迁移过来，作为新的加法机网络的预训练值（也就是初始值）"
   ]
  },
  {
   "cell_type": "code",
   "execution_count": null,
   "metadata": {
    "collapsed": true
   },
   "outputs": [],
   "source": [
    "net = Transfer()\n",
    "\n",
    "# 为新网络赋予权重数值，注意我们只将卷积部分的网络进行迁移，而没有迁移全链接层\n",
    "net.set_filter_values(original_net)\n",
    "\n",
    "if use_cuda:\n",
    "    net = net.cuda()\n",
    "\n",
    "criterion = nn.MSELoss()\n",
    "\n",
    "# 将需要训练的参数加载到优化器中\n",
    "new_parameters = []\n",
    "for para in net.parameters():\n",
    "    if para.requires_grad: #我们只将可以调整权重的变量加到了集合new_parameters\n",
    "        new_parameters.append(para)\n",
    "        \n",
    "# 将new_parameters加载到了优化器中\n",
    "optimizer = optim.SGD(new_parameters, lr=0.0001, momentum=0.9)\n"
   ]
  },
  {
   "cell_type": "code",
   "execution_count": null,
   "metadata": {
    "collapsed": true
   },
   "outputs": [],
   "source": [
    "# 开始训练网络\n",
    "num_epochs = 20\n",
    "records = []\n",
    "for epoch in range(num_epochs):\n",
    "    losses = []\n",
    "    for idx, data in enumerate(zip(train_loader1, train_loader2)):\n",
    "        if idx >= (len(train_loader1) // fraction):\n",
    "            break\n",
    "        ((x1, y1), (x2, y2)) = data\n",
    "        if use_cuda:\n",
    "            x1, y1, x2, y2 = x1.cuda(), y1.cuda(), x2.cuda(), y2.cuda()\n",
    "        net.train()\n",
    "        optimizer.zero_grad()\n",
    "        outputs = net(x1.clone().detach().requires_grad_(True), x2.clone().detach().requires_grad_(True))\n",
    "        labels = y1 + y2\n",
    "        loss = criterion(outputs,labels.type(torch.float))\n",
    "        loss.backward()\n",
    "        optimizer.step()\n",
    "        loss = loss.cpu() if use_cuda else loss\n",
    "        losses.append(loss.data.numpy())\n",
    "        if idx % 100 == 0:\n",
    "            val_losses = []\n",
    "            rights = []\n",
    "            net.eval()\n",
    "            for val_data in zip(val_loader1, val_loader2):\n",
    "                ((x1, y1), (x2, y2)) = val_data\n",
    "                if use_cuda:\n",
    "                    x1, y1, x2, y2 = x1.cuda(), y1.cuda(), x2.cuda(), y2.cuda()\n",
    "                outputs = net(x1.clone().detach().requires_grad_(True), x2.clone().detach().requires_grad_(True))\n",
    "                labels = y1 + y2\n",
    "                loss = criterion(outputs, labels.type(torch.float))\n",
    "                loss = loss.cpu() if use_cuda else loss\n",
    "                val_losses.append(loss.data.numpy())\n",
    "                \n",
    "                right = rightness(outputs.data, labels)\n",
    "                rights.append(right)\n",
    "            right_ratio = 1.0 * np.sum([i[0] for i in rights]) / np.sum([i[1] for i in rights])\n",
    "            print('第{}周期，第({}/{})个撮，训练误差：{:.2f}, 校验误差：{:.2f}, 准确率：{:.2f}'.format(\n",
    "                epoch, idx, len(train_loader1),\n",
    "                np.mean(losses), np.mean(val_losses), right_ratio))\n",
    "            records.append([np.mean(losses), np.mean(val_losses), right_ratio])\n",
    "rights = []\n",
    "net.eval()\n",
    "for test_data in zip(test_loader1, test_loader2):\n",
    "    ((x1, y1), (x2, y2)) = test_data\n",
    "    if use_cuda:\n",
    "        x1, y1, x2, y2 = x1.cuda(), y1.cuda(), x2.cuda(), y2.cuda()\n",
    "    outputs = net(x1.clone().detach().requires_grad_(True), x2.clone().detach().requires_grad_(True))\n",
    "    labels = y1 + y2\n",
    "    loss = criterion(outputs, labels.type(torch.float))\n",
    "    right = rightness(outputs.data, labels)\n",
    "    rights.append(right)\n",
    "right_ratio = 1.0 * np.sum([i[0] for i in rights]) / np.sum([i[1] for i in rights])\n",
    "results['transfer_pretrained'] = [records, right_ratio] "
   ]
  },
  {
   "cell_type": "code",
   "execution_count": null,
   "metadata": {
    "collapsed": true
   },
   "outputs": [],
   "source": [
    "plt.plot([1 - i[2] for i in records])\n",
    "right_ratio"
   ]
  },
  {
   "cell_type": "markdown",
   "metadata": {},
   "source": [
    "### 3.迁移，不更新权重\n",
    "\n",
    "在这个试验中，我们首先将识别器的卷积层的权重全部迁移到了加法机的两个卷积部件中，但保持它们的权重不变，只允许后面的全链接层的权重可训练。"
   ]
  },
  {
   "cell_type": "code",
   "execution_count": null,
   "metadata": {
    "collapsed": true
   },
   "outputs": [],
   "source": [
    "net = Transfer()\n",
    "# 迁移网络，并设置卷积部件的权重和偏置都不计算梯度\n",
    "net.set_filter_values_nograd(original_net)\n",
    "if use_cuda:\n",
    "    net = net.cuda()\n",
    "criterion = nn.MSELoss()\n",
    "\n",
    "# 只将可更新的权重值加载到了优化器中\n",
    "new_parameters = []\n",
    "for para in net.parameters():\n",
    "    if para.requires_grad:\n",
    "        new_parameters.append(para)\n",
    "optimizer = optim.SGD(new_parameters, lr=0.0001, momentum=0.9)"
   ]
  },
  {
   "cell_type": "code",
   "execution_count": null,
   "metadata": {
    "collapsed": true,
    "scrolled": true
   },
   "outputs": [],
   "source": [
    "# 训练整个网络\n",
    "num_epochs = 20\n",
    "records = []\n",
    "for epoch in range(num_epochs):\n",
    "    losses = []\n",
    "    for idx, data in enumerate(zip(train_loader1, train_loader2)):\n",
    "        if idx >= (len(train_loader1) // fraction):\n",
    "            break\n",
    "        ((x1, y1), (x2, y2)) = data\n",
    "        if use_cuda:\n",
    "            x1, y1, x2, y2 = x1.cuda(), y1.cuda(), x2.cuda(), y2.cuda()\n",
    "        net.train()\n",
    "        optimizer.zero_grad()\n",
    "        outputs = net(x1.clone().detach().requires_grad_(True), x2.clone().detach().requires_grad_(True))\n",
    "        labels = y1 + y2\n",
    "        labels = labels.type(dtype)\n",
    "        loss = criterion(outputs, labels)\n",
    "        loss.backward()\n",
    "\n",
    "        optimizer.step()\n",
    "        loss = loss.cpu() if use_cuda else loss\n",
    "        losses.append(loss.data.numpy())\n",
    "        if idx % 100 == 0:\n",
    "            val_losses = []\n",
    "            rights = []\n",
    "            net.eval()\n",
    "            for val_data in zip(val_loader1, val_loader2):\n",
    "                ((x1, y1), (x2, y2)) = val_data\n",
    "                if use_cuda:\n",
    "                    x1, y1, x2, y2 = x1.cuda(), y1.cuda(), x2.cuda(), y2.cuda()\n",
    "                outputs = net(x1.clone().detach().requires_grad_(True), x2.clone().detach().requires_grad_(True))\n",
    "                labels = y1 + y2\n",
    "                loss = criterion(outputs, labels.type(torch.float))\n",
    "                loss = loss.cpu() if use_cuda else loss\n",
    "                val_losses.append(loss.data.numpy())\n",
    "                \n",
    "                right = rightness(outputs.data, labels)\n",
    "                rights.append(right)\n",
    "            right_ratio = 1.0 * np.sum([i[0] for i in rights]) / np.sum([i[1] for i in rights])\n",
    "            print('第{}周期，第({}/{})个撮，训练误差：{:.2f}, 校验误差：{:.2f}, 准确率：{:.2f}'.format(\n",
    "                epoch, idx, len(train_loader1),\n",
    "                np.mean(losses), np.mean(val_losses), right_ratio))\n",
    "            records.append([np.mean(losses), np.mean(val_losses), right_ratio])\n",
    "rights = []\n",
    "net.eval()\n",
    "for test_data in zip(test_loader1, test_loader2):\n",
    "    ((x1, y1), (x2, y2)) = test_data\n",
    "    if use_cuda:\n",
    "        x1, y1, x2, y2 = x1.cuda(), y1.cuda(), x2.cuda(), y2.cuda()\n",
    "    outputs = net(x1.clone().detach().requires_grad_(True), x2.clone().detach().requires_grad_(True))\n",
    "    labels = y1 + y2\n",
    "    loss = criterion(outputs, labels.type(torch.float))\n",
    "    right = rightness(outputs.data, labels)\n",
    "    rights.append(right)\n",
    "right_ratio = 1.0 * np.sum([i[0] for i in rights]) / np.sum([i[1] for i in rights])\n",
    "results['transfer_fixed'] = [records, right_ratio]    "
   ]
  },
  {
   "cell_type": "code",
   "execution_count": null,
   "metadata": {
    "collapsed": true
   },
   "outputs": [],
   "source": [
    "plt.plot([1 - i[2] for i in records])\n",
    "right_ratio"
   ]
  },
  {
   "cell_type": "markdown",
   "metadata": {},
   "source": [
    "### 4、结果比较\n",
    "将三次实验的结果放到一起比较"
   ]
  },
  {
   "cell_type": "code",
   "execution_count": null,
   "metadata": {
    "collapsed": true
   },
   "outputs": [],
   "source": [
    "y1, y2, y3 = results['notransfer'][0], results['transfer_pretrained'][0], results['transfer_fixed'][0]"
   ]
  },
  {
   "cell_type": "code",
   "execution_count": null,
   "metadata": {
    "collapsed": true
   },
   "outputs": [],
   "source": [
    "plt.figure(figsize = (10, 7))\n",
    "plt.plot([1 - i[2] for i in y1], 'o-', label = 'no transfer')\n",
    "plt.plot([1 - i[2] for i in y2], 's:', label = 'transfer pretrained')\n",
    "plt.plot([1 - i[2] for i in y3], '*-', label = 'transfer fixed')\n",
    "plt.xlabel('Time')\n",
    "plt.ylabel('Error Rate')\n",
    "plt.legend()"
   ]
  },
  {
   "cell_type": "code",
   "execution_count": null,
   "metadata": {
    "collapsed": true
   },
   "outputs": [],
   "source": [
    "results['notransfer'][1], results['transfer_pretrained'][1], results['transfer_fixed'][1]"
   ]
  },
  {
   "cell_type": "code",
   "execution_count": null,
   "metadata": {
    "collapsed": true
   },
   "outputs": [],
   "source": [
    "experiments = {}\n",
    "experiments[1] = results"
   ]
  },
  {
   "cell_type": "code",
   "execution_count": null,
   "metadata": {
    "collapsed": true
   },
   "outputs": [],
   "source": [
    "experiments"
   ]
  },
  {
   "cell_type": "markdown",
   "metadata": {
    "collapsed": true
   },
   "source": [
    "## 综合试验\n",
    "\n",
    "为了系统化的比较不同的参数对迁移学习的影响，我们做了一次大实验：\n",
    "\n",
    "该试验包括了三重循环，分别是：\n",
    "\n",
    "1、不同的迁移学习方法：无迁移、迁移固定权重、迁移预训练\n",
    "\n",
    "2、每一个参数下重复实验times次\n",
    "\n",
    "3、加载不同的数据集比例fraction\n"
   ]
  },
  {
   "cell_type": "code",
   "execution_count": null,
   "metadata": {
    "collapsed": true
   },
   "outputs": [],
   "source": [
    "results = {} #记载实验结果\n",
    "times = 10 # 每一组参数下实验都要被重复10次\n",
    "fractions = [20, 10, 8, 6, 5, 4, 3, 2, 1] #所有的数据加载的比例值\n",
    "for experiment in ['no transfer', 'transfer_fixed', 'transfer_pretrained']:\n",
    "    for time in range(times):\n",
    "        for fraction in fractions:\n",
    "            \n",
    "            # 分不同的迁移学习情况加载网络和优化器\n",
    "            if experiment == 'no transfer':\n",
    "                net = Transfer()\n",
    "                if use_cuda:\n",
    "                    net = net.cuda()\n",
    "                criterion = nn.MSELoss()\n",
    "                optimizer = optim.SGD(net.parameters(), lr = 0.0001, momentum = 0.9)\n",
    "            if experiment == 'transfer_pretrained':\n",
    "                net = Transfer()\n",
    "                net.set_filter_values(original_net)\n",
    "                if use_cuda:\n",
    "                    net = net.cuda()\n",
    "                criterion = nn.MSELoss()\n",
    "                new_parameters = []\n",
    "                for para in net.parameters():\n",
    "                    if para.requires_grad:\n",
    "                        new_parameters.append(para)\n",
    "                optimizer = optim.SGD(new_parameters, lr=0.0001, momentum=0.9)\n",
    "            if experiment == 'transfer_fixed':\n",
    "                net = Transfer()\n",
    "                net.set_filter_values_nograd(original_net)\n",
    "                if use_cuda:\n",
    "                    net = net.cuda()\n",
    "                criterion = nn.MSELoss()\n",
    "                new_parameters = []\n",
    "                for para in net.parameters():\n",
    "                    if para.requires_grad:\n",
    "                        new_parameters.append(para)\n",
    "                optimizer = optim.SGD(new_parameters, lr=0.0001, momentum=0.9)\n",
    "                \n",
    "            #开始迁移学习训练\n",
    "            num_epochs = 20\n",
    "            records = []\n",
    "            for epoch in range(num_epochs):\n",
    "                losses = []\n",
    "                for idx, data in enumerate(zip(train_loader1, train_loader2)):\n",
    "                    if idx >= (len(train_loader1) // fraction):\n",
    "                        break\n",
    "                    ((x1, y1), (x2, y2)) = data\n",
    "                    if use_cuda:\n",
    "                        x1, y1, x2, y2 = x1.cuda(), y1.cuda(), x2.cuda(), y2.cuda()\n",
    "                    net.train()\n",
    "                    optimizer.zero_grad()\n",
    "                    outputs = net(x1.clone().detach().requires_grad_(True), x2.clone().detach().requires_grad_(True))\n",
    "                    labels = y1 + y2\n",
    "                    loss = criterion(outputs, labels.type(dtype))\n",
    "                    loss.backward()\n",
    "                    optimizer.step()\n",
    "                    loss = loss.cpu() if use_cuda else loss\n",
    "                    losses.append(loss.data.numpy())\n",
    "                    if idx % 500 == 0:\n",
    "                        val_losses = []\n",
    "                        rights = []\n",
    "                        net.eval()\n",
    "                        for val_data in zip(val_loader1, val_loader2):\n",
    "                            ((x1, y1), (x2, y2)) = val_data\n",
    "                            if use_cuda:\n",
    "                                x1, y1, x2, y2 = x1.cuda(), y1.cuda(), x2.cuda(), y2.cuda()\n",
    "                            outputs = net(x1.clone().detach().requires_grad_(True), x2.clone().detach().requires_grad_(True))\n",
    "                            labels = y1 + y2\n",
    "                            loss = criterion(outputs, labels.type(dtype))\n",
    "                            loss = loss.cpu() if use_cuda else loss\n",
    "                            val_losses.append(loss.data.numpy())\n",
    "                            right = rightness(outputs.data, labels)\n",
    "                            rights.append(right)\n",
    "                        right_ratio = 1.0 * np.sum([i[0] for i in rights]) / np.sum([i[1] for i in rights])\n",
    "                        print('{}网络：第{}试验，比例{}, 第{}周期，第({}/{})个撮，训练误差：{:.2f}, 校验误差：{:.2f}, 准确率：{:.2f}'\n",
    "                              .format(experiment,time,fraction,\n",
    "                            epoch, idx, len(train_loader1),\n",
    "                            np.mean(losses), np.mean(val_losses), right_ratio))\n",
    "                        records.append([np.mean(losses), np.mean(val_losses), right_ratio])\n",
    "            rights = []\n",
    "            net.eval()\n",
    "            for test_data in zip(test_loader1, test_loader2):\n",
    "                ((x1, y1), (x2, y2)) = test_data\n",
    "                if use_cuda:\n",
    "                    x1, y1, x2, y2 = x1.cuda(), y1.cuda(), x2.cuda(), y2.cuda()\n",
    "                outputs = net(x1.clone().detach().requires_grad_(True), x2.clone().detach().requires_grad_(True))\n",
    "                labels = y1 + y2\n",
    "                loss = criterion(outputs, labels.type(dtype))\n",
    "                right = rightness(outputs.data, labels)\n",
    "                rights.append(right)\n",
    "            right_ratio = 1.0 * np.sum([i[0] for i in rights]) / np.sum([i[1] for i in rights])\n",
    "            print(experiment,time,fraction)\n",
    "            \n",
    "            #将结果记录在了results集合之中，records记载了每一个打印周期的训练集损失函数、校验集损失函数、校验集正确率，\n",
    "            #right_ratio记录了每次实验测试集的准确度\n",
    "            results[(experiment,time,fraction)] = [records, right_ratio]  "
   ]
  },
  {
   "cell_type": "code",
   "execution_count": null,
   "metadata": {
    "collapsed": true
   },
   "outputs": [],
   "source": [
    "# 处理实验数据\n",
    "# 首先对于同一组参数下的数据求多次试验的平均值\n",
    "\n",
    "one_curve = {}\n",
    "tests = {}\n",
    "for experiment in ['no transfer', 'transfer_pretrained', 'transfer_fixed']:\n",
    "    for fraction in fractions:\n",
    "        one_experiment = []\n",
    "        test_value = []\n",
    "        for time in range(times):\n",
    "            rr = results[(experiment, time, fraction)]\n",
    "            one_experiment.append([ii[2] for ii in rr[0]])\n",
    "            test_value.append(rr[1])\n",
    "        aa = np.array(one_experiment)\n",
    "        #print(aa.shape)\n",
    "        one_curve[(experiment, fraction)] = np.mean(aa, 0)\n",
    "        tests[(experiment, fraction)] = np.mean(test_value)"
   ]
  },
  {
   "cell_type": "code",
   "execution_count": null,
   "metadata": {
    "collapsed": true
   },
   "outputs": [],
   "source": [
    "# 然后再绘制它们的误差曲线\n",
    "for fraction in fractions:\n",
    "    plt.figure(figsize = (10, 7))\n",
    "    plt.title('{:.2f} % of the data'.format(100.0 / fraction))\n",
    "    plt.plot(1 - one_curve[('no transfer', fraction)], label = 'no transfer')\n",
    "    plt.plot(1 - one_curve[('transfer_pretrained', fraction)], label = 'transfer pretrained')\n",
    "    plt.plot(1 - one_curve[('transfer_fixed', fraction)] , label = 'transfer fixed')\n",
    "    plt.legend()\n",
    "    plt.xlabel('Time')\n",
    "    plt.ylabel('Error')"
   ]
  },
  {
   "cell_type": "code",
   "execution_count": null,
   "metadata": {
    "collapsed": true
   },
   "outputs": [],
   "source": [
    "# 绘制测试准确度随着fraction变化的曲线\n",
    "plt.figure(figsize = (10, 7))\n",
    "for experiment in ['no transfer', 'transfer_pretrained', 'transfer_fixed']:\n",
    "    testss = []\n",
    "    for fraction in fractions:\n",
    "        test = 1 - tests[(experiment, fraction)]\n",
    "        testss.append(test)\n",
    "    plt.plot(fractions, testss, 'o-', label = experiment)\n",
    "plt.legend()\n",
    "plt.xlabel('Fractions')\n",
    "plt.ylabel('Error Rate')"
   ]
  }
 ],
 "metadata": {
  "kernelspec": {
   "display_name": "Python 3",
   "language": "python",
   "name": "python3"
  },
  "language_info": {
   "codemirror_mode": {
    "name": "ipython",
    "version": 3
   },
   "file_extension": ".py",
   "mimetype": "text/x-python",
   "name": "python",
   "nbconvert_exporter": "python",
   "pygments_lexer": "ipython3",
   "version": "3.6.3"
  }
 },
 "nbformat": 4,
 "nbformat_minor": 2
}
